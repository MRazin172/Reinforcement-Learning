{
  "nbformat": 4,
  "nbformat_minor": 0,
  "metadata": {
    "colab": {
      "provenance": [],
      "authorship_tag": "ABX9TyM3EyPABgEztrvfWgFrodwq",
      "include_colab_link": true
    },
    "kernelspec": {
      "name": "python3",
      "display_name": "Python 3"
    },
    "language_info": {
      "name": "python"
    }
  },
  "cells": [
    {
      "cell_type": "markdown",
      "metadata": {
        "id": "view-in-github",
        "colab_type": "text"
      },
      "source": [
        "<a href=\"https://colab.research.google.com/github/MRazin172/Reinforcement-Learning/blob/main/2348534_RL_Lab10.ipynb\" target=\"_parent\"><img src=\"https://colab.research.google.com/assets/colab-badge.svg\" alt=\"Open In Colab\"/></a>"
      ]
    },
    {
      "cell_type": "code",
      "source": [
        "import numpy as np\n",
        "import matplotlib.pyplot as plt\n",
        "from scipy.special import softmax\n"
      ],
      "metadata": {
        "id": "StfAtGGJVTgy"
      },
      "execution_count": 1,
      "outputs": []
    },
    {
      "cell_type": "markdown",
      "source": [
        "Define a simple 1D grid-world environment"
      ],
      "metadata": {
        "id": "FYQ58wTyVfUc"
      }
    },
    {
      "cell_type": "code",
      "source": [
        "class GridWorld:\n",
        "    def __init__(self, size, goal):\n",
        "        self.size = size\n",
        "        self.goal = goal\n",
        "\n",
        "    def reset(self):\n",
        "        self.state = 0\n",
        "        return self.state\n",
        "\n",
        "    def step(self, action):\n",
        "        if action == 0:  # Move left\n",
        "            self.state = max(0, self.state - 1)\n",
        "        elif action == 1:  # Move right\n",
        "            self.state = min(self.size - 1, self.state + 1)\n",
        "\n",
        "        reward = 1 if self.state == self.goal else 0\n",
        "        done = self.state == self.goal\n",
        "        return self.state, reward, done"
      ],
      "metadata": {
        "id": "pitEn_LVVWTd"
      },
      "execution_count": 3,
      "outputs": []
    },
    {
      "cell_type": "markdown",
      "source": [
        "Policy Network (Logits -> Softmax -> Action Probabilities)\n"
      ],
      "metadata": {
        "id": "BYAu36IqVbXB"
      }
    },
    {
      "cell_type": "code",
      "source": [
        "def policy(state, weights):\n",
        "    logits = weights[state]\n",
        "    probs = softmax(logits)\n",
        "    action = np.random.choice(len(probs), p=probs)\n",
        "    return action, probs"
      ],
      "metadata": {
        "id": "XA4xiPGUVZu3"
      },
      "execution_count": 4,
      "outputs": []
    },
    {
      "cell_type": "markdown",
      "source": [
        " Generate an episode"
      ],
      "metadata": {
        "id": "A86rZyTOVjIa"
      }
    },
    {
      "cell_type": "code",
      "source": [
        "def generate_episode(env, weights):\n",
        "    state = env.reset()\n",
        "    episode = []\n",
        "    done = False\n",
        "\n",
        "    while not done:\n",
        "        action, probs = policy(state, weights)\n",
        "        next_state, reward, done = env.step(action)\n",
        "        episode.append((state, action, reward))\n",
        "        state = next_state\n",
        "\n",
        "    return episode\n"
      ],
      "metadata": {
        "id": "AaTktbeMVhjV"
      },
      "execution_count": 6,
      "outputs": []
    },
    {
      "cell_type": "code",
      "source": [
        "def compute_returns(episode, gamma):\n",
        "    returns = []\n",
        "    G = 0\n",
        "    for _, _, reward in reversed(episode):\n",
        "        G = reward + gamma * G\n",
        "        returns.insert(0, G)\n",
        "    return returns"
      ],
      "metadata": {
        "id": "eeZvSn5hVn4f"
      },
      "execution_count": 7,
      "outputs": []
    },
    {
      "cell_type": "code",
      "source": [
        "def update_policy(episode, returns, weights, alpha):\n",
        "    for (state, action, _), G in zip(episode, returns):\n",
        "        logits = weights[state]\n",
        "        probs = softmax(logits)\n",
        "        gradient = -probs\n",
        "        gradient[action] += 1\n",
        "        weights[state] += alpha * G * gradient\n"
      ],
      "metadata": {
        "id": "agS6NxucVppf"
      },
      "execution_count": 8,
      "outputs": []
    },
    {
      "cell_type": "markdown",
      "source": [
        "Parameters"
      ],
      "metadata": {
        "id": "26pkuQa7VuKW"
      }
    },
    {
      "cell_type": "code",
      "source": [
        "env = GridWorld(size=5, goal=4)\n",
        "states = env.size\n",
        "actions = 2\n",
        "gamma = 0.99\n",
        "alpha = 0.1\n",
        "episodes = 1000\n",
        "\n",
        "# Initialize weights\n",
        "weights = np.zeros((states, actions))\n",
        "\n",
        "total_rewards = []\n",
        "\n",
        "# Train the agent\n",
        "for episode in range(episodes):\n",
        "    ep = generate_episode(env, weights)\n",
        "    returns = compute_returns(ep, gamma)\n",
        "    update_policy(ep, returns, weights, alpha)\n",
        "    total_rewards.append(sum([reward for _, _, reward in ep]))"
      ],
      "metadata": {
        "id": "ryrWzzBJVsRY"
      },
      "execution_count": 9,
      "outputs": []
    },
    {
      "cell_type": "code",
      "execution_count": 10,
      "metadata": {
        "id": "usdL-UmP4CbM",
        "colab": {
          "base_uri": "https://localhost:8080/",
          "height": 576
        },
        "outputId": "a7fd05cd-7895-48ea-b7bd-797009e49932"
      },
      "outputs": [
        {
          "output_type": "display_data",
          "data": {
            "text/plain": [
              "<Figure size 640x480 with 1 Axes>"
            ],
            "image/png": "[encoded data removed]"
          },
          "metadata": {}
        },
        {
          "output_type": "stream",
          "name": "stdout",
          "text": [
            "Trained policy weights:\n",
            "[[-1.58843311  1.58843311]\n",
            " [-1.89685214  1.89685214]\n",
            " [-1.43431146  1.43431146]\n",
            " [-1.97543037  1.97543037]\n",
            " [ 0.          0.        ]]\n"
          ]
        }
      ],
      "source": [
        "# Plot total rewards\n",
        "plt.plot(total_rewards)\n",
        "plt.xlabel('Episodes')\n",
        "plt.ylabel('Total Rewards')\n",
        "plt.title('Policy Gradient Training')\n",
        "plt.show()\n",
        "\n",
        "print(\"Trained policy weights:\")\n",
        "print(weights)\n"
      ]
    }
  ]
}