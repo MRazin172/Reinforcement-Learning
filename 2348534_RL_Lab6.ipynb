{
  "nbformat": 4,
  "nbformat_minor": 0,
  "metadata": {
    "colab": {
      "provenance": [],
      "authorship_tag": "ABX9TyMaf73FuJTOzQmcaUfvsZ9Q",
      "include_colab_link": true
    },
    "kernelspec": {
      "name": "python3",
      "display_name": "Python 3"
    },
    "language_info": {
      "name": "python"
    }
  },
  "cells": [
    {
      "cell_type": "markdown",
      "metadata": {
        "id": "view-in-github",
        "colab_type": "text"
      },
      "source": [
        "<a href=\"https://colab.research.google.com/github/MRazin172/Reinforcement-Learning/blob/main/2348534_RL_Lab6.ipynb\" target=\"_parent\"><img src=\"https://colab.research.google.com/assets/colab-badge.svg\" alt=\"Open In Colab\"/></a>"
      ]
    },
    {
      "cell_type": "code",
      "execution_count": 4,
      "metadata": {
        "colab": {
          "base_uri": "https://localhost:8080/"
        },
        "id": "U_45bfx1setD",
        "outputId": "19dc5535-6940-47fc-a415-34c079b18c38"
      },
      "outputs": [
        {
          "output_type": "stream",
          "name": "stdout",
          "text": [
            "Simulated Trajectory:\n",
            "State: (0, 0), Action: down, Reward: -1, Next State: (1, 0)\n",
            "State: (1, 0), Action: up, Reward: -1, Next State: (0, 0)\n",
            "State: (0, 0), Action: right, Reward: -1, Next State: (0, 1)\n",
            "State: (0, 1), Action: down, Reward: -1, Next State: (1, 1)\n",
            "State: (1, 1), Action: left, Reward: -1, Next State: (1, 0)\n",
            "State: (1, 0), Action: right, Reward: -1, Next State: (1, 1)\n",
            "State: (1, 1), Action: down, Reward: -1, Next State: (2, 1)\n",
            "State: (2, 1), Action: left, Reward: -1, Next State: (2, 0)\n",
            "State: (2, 0), Action: up, Reward: -1, Next State: (1, 0)\n",
            "State: (1, 0), Action: left, Reward: -1, Next State: (1, 0)\n",
            "State: (1, 0), Action: right, Reward: -1, Next State: (1, 1)\n",
            "State: (1, 1), Action: down, Reward: -1, Next State: (2, 1)\n",
            "State: (2, 1), Action: left, Reward: -1, Next State: (2, 0)\n",
            "State: (2, 0), Action: right, Reward: -1, Next State: (2, 1)\n",
            "State: (2, 1), Action: left, Reward: -1, Next State: (2, 0)\n",
            "State: (2, 0), Action: up, Reward: -1, Next State: (1, 0)\n",
            "State: (1, 0), Action: up, Reward: -1, Next State: (0, 0)\n",
            "State: (0, 0), Action: left, Reward: -1, Next State: (0, 0)\n",
            "State: (0, 0), Action: right, Reward: -1, Next State: (0, 1)\n",
            "State: (0, 1), Action: down, Reward: -1, Next State: (1, 1)\n",
            "State: (1, 1), Action: right, Reward: -1, Next State: (1, 2)\n",
            "State: (1, 2), Action: right, Reward: -1, Next State: (1, 3)\n",
            "State: (1, 3), Action: left, Reward: -1, Next State: (1, 2)\n",
            "State: (1, 2), Action: right, Reward: -1, Next State: (1, 3)\n",
            "State: (1, 3), Action: down, Reward: -1, Next State: (2, 3)\n",
            "State: (2, 3), Action: right, Reward: -1, Next State: (2, 3)\n",
            "State: (2, 3), Action: down, Reward: 10, Next State: (3, 3)\n"
          ]
        }
      ],
      "source": [
        "import numpy as np\n",
        "\n",
        "class ModelBasedEnv:\n",
        "    def __init__(self, grid_size=4):\n",
        "        self.grid_size = grid_size\n",
        "        self.states = [(i, j) for i in range(grid_size) for j in range(grid_size)]\n",
        "        self.actions = ['up', 'right', 'down', 'left']  # Action space\n",
        "        self.action_map = {0: 'up', 1: 'right', 2: 'down', 3: 'left'}\n",
        "        self.terminal_state = (grid_size - 1, grid_size - 1)\n",
        "        self.reward_table = {}\n",
        "        self.transition_table = {}\n",
        "\n",
        "        # Populate rewards and transitions\n",
        "        self._initialize_environment()\n",
        "\n",
        "    def _initialize_environment(self):\n",
        "        \"\"\"Defines the transition probabilities and rewards.\"\"\"\n",
        "        for state in self.states:\n",
        "            for action in self.actions:\n",
        "                self.reward_table[(state, action)] = self._reward_function(state, action)\n",
        "                self.transition_table[(state, action)] = self._transition_function(state, action)\n",
        "\n",
        "    def _reward_function(self, state, action):\n",
        "        \"\"\"Reward function: -1 per step, +10 for reaching terminal state.\"\"\"\n",
        "        next_state = self._next_state(state, action)\n",
        "        if next_state == self.terminal_state:\n",
        "            return 10\n",
        "        return -1\n",
        "\n",
        "    def _transition_function(self, state, action):\n",
        "        \"\"\"Transition function: deterministic next state.\"\"\"\n",
        "        if state == self.terminal_state:\n",
        "            return {state: 1.0}  # Terminal state transitions to itself with probability 1\n",
        "        next_state = self._next_state(state, action)\n",
        "        return {next_state: 1.0}\n",
        "\n",
        "    def _next_state(self, state, action):\n",
        "        \"\"\"Calculate next state given the current state and action.\"\"\"\n",
        "        x, y = state\n",
        "        if action == 'up':\n",
        "            x = max(x - 1, 0)\n",
        "        elif action == 'right':\n",
        "            y = min(y + 1, self.grid_size - 1)\n",
        "        elif action == 'down':\n",
        "            x = min(x + 1, self.grid_size - 1)\n",
        "        elif action == 'left':\n",
        "            y = max(y - 1, 0)\n",
        "        return (x, y)\n",
        "\n",
        "    def get_transitions(self, state, action):\n",
        "        \"\"\"Return transition probabilities for a given state-action pair.\"\"\"\n",
        "        return self.transition_table.get((state, action), {})\n",
        "\n",
        "    def get_reward(self, state, action):\n",
        "        \"\"\"Return the reward for a given state-action pair.\"\"\"\n",
        "        return self.reward_table.get((state, action), -1)\n",
        "\n",
        "    def is_terminal(self, state):\n",
        "        \"\"\"Check if the state is terminal.\"\"\"\n",
        "        return state == self.terminal_state\n",
        "\n",
        "    def reset(self):\n",
        "        \"\"\"Reset the environment to the starting state.\"\"\"\n",
        "        return (0, 0)\n",
        "\n",
        "    def step(self, state, action):\n",
        "        \"\"\"Simulate an environment step.\"\"\"\n",
        "        next_state = list(self.get_transitions(state, action).keys())[0]\n",
        "        reward = self.get_reward(state, action)\n",
        "        done = self.is_terminal(next_state)\n",
        "        return next_state, reward, done\n",
        "\n",
        "# Test the environment\n",
        "if __name__ == \"__main__\":\n",
        "    env = ModelBasedEnv(grid_size=4)\n",
        "\n",
        "    # Simulate a single trajectory\n",
        "    state = env.reset()\n",
        "    trajectory = []\n",
        "    while not env.is_terminal(state):\n",
        "        action = np.random.choice(env.actions)\n",
        "        next_state, reward, done = env.step(state, action)\n",
        "        trajectory.append((state, action, reward, next_state))\n",
        "        state = next_state\n",
        "\n",
        "    print(\"Simulated Trajectory:\")\n",
        "    for step in trajectory:\n",
        "        print(f\"State: {step[0]}, Action: {step[1]}, Reward: {step[2]}, Next State: {step[3]}\")\n"
      ]
    },
    {
      "cell_type": "code",
      "source": [
        "import matplotlib.pyplot as plt\n",
        "import numpy as np\n",
        "\n",
        "# Define the environment grid\n",
        "grid_size = (5, 5)  # Example grid of size 5x5\n",
        "trajectory = [\n",
        "    (0, 0), (0, 1), (0, 2), (0, 3), (0, 2),\n",
        "    (0, 1), (0, 0), (1, 0), (1, 1), (1, 2),\n",
        "    (1, 1), (1, 0), (0, 0), (0, 1), (0, 0)\n",
        "]\n",
        "\n",
        "# Extract x and y coordinates from the trajectory\n",
        "x_coords, y_coords = zip(*trajectory)\n",
        "\n",
        "# Analyze trajectory metrics\n",
        "unique_states = set(trajectory)\n",
        "total_visits = len(trajectory)\n",
        "repeated_visits = total_visits - len(unique_states)\n",
        "revisit_rate = repeated_visits / total_visits\n",
        "\n",
        "# Create a grid for visit counts\n",
        "visit_count_grid = np.zeros(grid_size)\n",
        "\n",
        "# Mark visit counts and revisits\n",
        "revisit_indices = []\n",
        "for i, state in enumerate(trajectory):\n",
        "    if visit_count_grid[state] > 0:\n",
        "        revisit_indices.append(i)  # Track revisits\n",
        "    visit_count_grid[state] += 1\n",
        "\n",
        "# Plot the environment grid and trajectory\n",
        "plt.figure(figsize=(8, 8))\n",
        "plt.imshow(visit_count_grid.T, cmap=\"Blues\", origin=\"lower\", extent=[-0.5, grid_size[0] - 0.5, -0.5, grid_size[1] - 0.5])\n",
        "plt.colorbar(label=\"Visit Count\")\n",
        "\n",
        "# Plot the trajectory\n",
        "for i, (x, y) in enumerate(trajectory):\n",
        "    color = \"red\" if i in revisit_indices else \"green\"\n",
        "    plt.plot(x, y, color=color, marker=\"o\", markersize=8, alpha=0.8)\n",
        "\n",
        "# Add labels and annotations\n",
        "plt.title(f\"Agent Trajectory (Revisit Rate: {revisit_rate:.2f})\")\n",
        "plt.xlabel(\"X-coordinate\")\n",
        "plt.ylabel(\"Y-coordinate\")\n",
        "plt.xticks(range(grid_size[0]))\n",
        "plt.yticks(range(grid_size[1]))\n",
        "plt.grid(True)\n",
        "\n",
        "# Annotate visit counts\n",
        "for x in range(grid_size[0]):\n",
        "    for y in range(grid_size[1]):\n",
        "        if visit_count_grid[x, y] > 0:\n",
        "            plt.text(x, y, str(int(visit_count_grid[x, y])), ha=\"center\", va=\"center\", color=\"black\")\n",
        "\n",
        "# Display total and unique visits in the legend\n",
        "plt.legend([\"First Visit (Green)\", \"Revisit (Red)\"], loc=\"upper right\")\n",
        "\n",
        "# Show the plot\n",
        "plt.show()\n",
        "\n",
        "# Print metrics\n",
        "print(\"Trajectory Analysis:\")\n",
        "print(f\"  Total states visited: {total_visits}\")\n",
        "print(f\"  Unique states visited: {len(unique_states)}\")\n",
        "print(f\"  Revisit rate: {revisit_rate:.2f}\")\n"
      ],
      "metadata": {
        "colab": {
          "base_uri": "https://localhost:8080/",
          "height": 735
        },
        "id": "eb5T3W51u0Ki",
        "outputId": "436e7fa7-0c7c-48d6-f888-38ded21caeb5"
      },
      "execution_count": 5,
      "outputs": [
        {
          "output_type": "display_data",
          "data": {
            "text/plain": [
              "<Figure size 800x800 with 2 Axes>"
            ],
            "image/png": "[encoded data removed]"
          },
          "metadata": {}
        },
        {
          "output_type": "stream",
          "name": "stdout",
          "text": [
            "Trajectory Analysis:\n",
            "  Total states visited: 15\n",
            "  Unique states visited: 7\n",
            "  Revisit rate: 0.53\n"
          ]
        }
      ]
    },
    {
      "cell_type": "markdown",
      "source": [
        "The trajectory analysis provided seems consistent with the information in the plot. Here's a breakdown of how it aligns:\n",
        "\n",
        "1. **Total States Visited: 15**\n",
        "   - The total number of steps (states visited) in the trajectory is 15. This is represented by the sum of all visit counts across the heatmap.\n",
        "\n",
        "2. **Unique States Visited: 7**\n",
        "   - The unique states are the distinct `(x, y)` coordinates visited in the trajectory. In the plot, we can count **7 unique grid cells** with either a green or red marker.\n",
        "\n",
        "3. **Revisit Rate: 0.53**\n",
        "   - The revisit rate is calculated as:\n",
        "     \\[\n",
        "     \\text{Revisit Rate} = \\frac{\\text{Total Visits} - \\text{Unique States Visited}}{\\text{Total Visits}}\n",
        "     \\]\n",
        "     Substituting the values:\n",
        "     \\[\n",
        "     \\text{Revisit Rate} = \\frac{15 - 7}{15} = 0.53\n",
        "     \\]\n",
        "\n",
        "The analysis matches the data shown in the plot. If you'd like, I can verify or adjust the logic further based on any additional specifics you provide!"
      ],
      "metadata": {
        "id": "UWmI5rVZ0Bx2"
      }
    }
  ]
}