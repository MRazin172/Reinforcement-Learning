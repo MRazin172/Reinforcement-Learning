{
  "nbformat": 4,
  "nbformat_minor": 0,
  "metadata": {
    "colab": {
      "provenance": [],
      "authorship_tag": "ABX9TyMv3PVJikiSh31Q8tstjXp0",
      "include_colab_link": true
    },
    "kernelspec": {
      "name": "python3",
      "display_name": "Python 3"
    },
    "language_info": {
      "name": "python"
    }
  },
  "cells": [
    {
      "cell_type": "markdown",
      "metadata": {
        "id": "view-in-github",
        "colab_type": "text"
      },
      "source": [
        "<a href=\"https://colab.research.google.com/github/MRazin172/Reinforcement-Learning/blob/main/2348534_RL_Lab3.ipynb\" target=\"_parent\"><img src=\"https://colab.research.google.com/assets/colab-badge.svg\" alt=\"Open In Colab\"/></a>"
      ]
    },
    {
      "cell_type": "code",
      "source": [
        "import numpy as np\n",
        "\n",
        "class MDP:\n",
        "    def __init__(self, states, actions, transition_prob, rewards, gamma):\n",
        "        self.states = states\n",
        "        self.actions = actions\n",
        "        self.transition_prob = transition_prob\n",
        "        self.rewards = rewards\n",
        "        self.gamma = gamma\n",
        "\n",
        "    def value_iteration(self, threshold=1e-5):\n",
        "        values = np.zeros(len(self.states))\n",
        "\n",
        "        while True:\n",
        "            delta = 0\n",
        "            new_values = np.copy(values)\n",
        "\n",
        "            for s in range(len(self.states)):\n",
        "                action_values = []\n",
        "\n",
        "                for a in range(len(self.actions)):\n",
        "                    action_value = 0\n",
        "                    for s_next in range(len(self.states)):\n",
        "                        prob = self.transition_prob[s][a][s_next]\n",
        "                        reward = self.rewards[s][a][s_next]\n",
        "                        action_value += prob * (reward + self.gamma * values[s_next])\n",
        "\n",
        "                    action_values.append(action_value)\n",
        "\n",
        "                new_values[s] = max(action_values)\n",
        "                delta = max(delta, abs(new_values[s] - values[s]))\n",
        "\n",
        "            values = new_values\n",
        "            if delta < threshold:\n",
        "                break\n",
        "\n",
        "        policy = np.zeros(len(self.states), dtype=int)\n",
        "\n",
        "        for s in range(len(self.states)):\n",
        "            action_values = []\n",
        "            for a in range(len(self.actions)):\n",
        "                action_value = 0\n",
        "                for s_next in range(len(self.states)):\n",
        "                    prob = self.transition_prob[s][a][s_next]\n",
        "                    reward = self.rewards[s][a][s_next]\n",
        "                    action_value += prob * (reward + self.gamma * values[s_next])\n",
        "\n",
        "                action_values.append(action_value)\n",
        "\n",
        "            policy[s] = np.argmax(action_values)\n",
        "\n",
        "        return policy, values"
      ],
      "metadata": {
        "id": "af3Y1Ef3J55p"
      },
      "execution_count": 5,
      "outputs": []
    },
    {
      "cell_type": "code",
      "execution_count": 6,
      "metadata": {
        "id": "Wu-TzSX-ncBO",
        "colab": {
          "base_uri": "https://localhost:8080/",
          "height": 507
        },
        "outputId": "cab3e791-ab79-4363-9778-aa36624c4b58"
      },
      "outputs": [
        {
          "output_type": "stream",
          "name": "stdout",
          "text": [
            "Optimal Policy: [1 1 1 0]\n",
            "Optimal Value Function: [3.63982327 3.2027697  2.75991256 2.15991256]\n"
          ]
        },
        {
          "output_type": "display_data",
          "data": {
            "text/plain": [
              "<Figure size 640x480 with 1 Axes>"
            ],
            "image/png": "[encoded data removed]"
          },
          "metadata": {}
        }
      ],
      "source": [
        "states = [0, 1, 2, 3]\n",
        "actions = [0, 1]\n",
        "transition_prob = [\n",
        "    [[0.7, 0.3, 0, 0], [0.4, 0.6, 0, 0]],\n",
        "    [[0.4, 0.6, 0, 0], [0, 0.8, 0.2, 0]],\n",
        "    [[0, 0, 0.7, 0.3], [0, 0, 0.4, 0.6]],\n",
        "    [[0, 0, 0.4, 0.6], [0, 0, 0, 1]]\n",
        "]\n",
        "rewards = [\n",
        "    [[0, 0, 0, 0], [0, 1, 0, 0]],\n",
        "    [[0, 0, 0, 0], [0, 0, 2, 0]],\n",
        "    [[0, 0, 0, 0], [0, 0, 0, 1]],\n",
        "    [[0, 0, 0, 0], [0, 0, 0, 0]]\n",
        "]\n",
        "gamma = 0.9\n",
        "\n",
        "mdp = MDP(states, actions, transition_prob, rewards, gamma)\n",
        "optimal_policy, optimal_values = mdp.value_iteration()\n",
        "\n",
        "print(\"Optimal Policy:\", optimal_policy)\n",
        "print(\"Optimal Value Function:\", optimal_values)\n",
        "\n",
        "import matplotlib.pyplot as plt\n",
        "\n",
        "plt.bar(states, optimal_values)\n",
        "plt.xlabel(\"States\")\n",
        "plt.ylabel(\"Optimal Value\")\n",
        "plt.title(\"Optimal Value Function for Each State\")\n",
        "plt.show()"
      ]
    },
    {
      "cell_type": "markdown",
      "source": [
        "This code simulates a **Markov Decision Process (MDP)** and uses **Value Iteration** to find the optimal policy and value function for each state. An MDP represents decision-making situations where outcomes depend on both the current state and a chosen action, with future rewards considered using a discount factor (here, 0.9). The algorithm evaluates the expected rewards for different actions in each state, updating value estimates iteratively until the values stabilize. The result is an optimal policy that tells which action to take in each state to maximize long-term rewards.\n",
        "\n",
        "In simple terms: Think of it like trying to find the best strategy for a game where each move (action) affects future states and rewards. Value iteration helps figure out the best moves by considering future rewards and choosing actions that lead to the most valuable states in the long run."
      ],
      "metadata": {
        "id": "rUnGxB_QNhXF"
      }
    }
  ]
}